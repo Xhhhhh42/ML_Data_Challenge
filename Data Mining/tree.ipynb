{
 "cells": [
  {
   "cell_type": "code",
   "execution_count": 1,
   "id": "917b06c8",
   "metadata": {},
   "outputs": [],
   "source": [
    "import pandas as pd\n",
    "import seaborn as sns\n",
    "import numpy as np\n",
    "import matplotlib.pyplot as plt\n",
    "from matplotlib.pyplot import MultipleLocator\n",
    "import time\n",
    "import datetime\n",
    "from datetime import timedelta\n",
    "import scipy.stats as stats"
   ]
  },
  {
   "cell_type": "code",
   "execution_count": null,
   "id": "78d48f85",
   "metadata": {},
   "outputs": [],
   "source": [
    "from subprocess import check_output\n",
    "print(check_output([\"ls\", \"../input\"]).decode(\"utf8\"))"
   ]
  },
  {
   "cell_type": "code",
   "execution_count": 4,
   "id": "007baaa8",
   "metadata": {},
   "outputs": [],
   "source": [
    "# ID_51_2020=pd.read_csv(r'D:\\留德十年\\TUD\\ADP\\Data\\2020/TagID_051_2020.csv',dtype= {'CreateDateTime': str, 'TagValue': np.float64, 'TagId': np.int32},parse_dates=['CreateDateTime'],index_col='Unnamed: 0')\n",
    "ID_52_2020=pd.read_csv(r'D:\\留德十年\\TUD\\ADP\\Data\\2020/TagID_052_2020.csv',dtype= {'CreateDateTime': str, 'TagValue': np.float64, 'TagId': np.int32},parse_dates=['CreateDateTime'],index_col='Unnamed: 0')\n",
    "# ID_51_2020_0809=pd.read_csv(r'D:\\留德十年\\TUD\\ADP\\Data\\2020/ID_51_2020_0809.csv',dtype= {'CreateDateTime': str, 'TagValue': np.float64, 'TagId': np.int32},parse_dates=['CreateDateTime'],index_col='Unnamed: 0')"
   ]
  },
  {
   "cell_type": "code",
   "execution_count": 43,
   "id": "54a7f6d6",
   "metadata": {},
   "outputs": [],
   "source": [
    "ID_85_2020=pd.read_csv(r'D:\\留德十年\\TUD\\ADP\\Data\\2020/TagID_085_2020.csv',dtype= {'CreateDateTime': str, 'TagValue': np.float64, 'TagId': np.int32},parse_dates=['CreateDateTime'],index_col='Unnamed: 0')\n",
    "ID_45_2020=pd.read_csv(r'D:\\留德十年\\TUD\\ADP\\Data\\2020/TagID_045_2020.csv',dtype= {'CreateDateTime': str, 'TagValue': np.float64, 'TagId': np.int32},parse_dates=['CreateDateTime'],index_col='Unnamed: 0')\n",
    "ID_14_2020=pd.read_csv(r'D:\\留德十年\\TUD\\ADP\\Data\\2020/TagID_014_2020.csv',dtype= {'CreateDateTime': str, 'TagValue': np.float64, 'TagId': np.int32},parse_dates=['CreateDateTime'],index_col='Unnamed: 0')"
   ]
  },
  {
   "cell_type": "code",
   "execution_count": 5,
   "id": "862aaa99",
   "metadata": {},
   "outputs": [],
   "source": [
    "Daten_0 = ID_52_2020\n",
    "Daten_0 = Daten_0[(Daten_0['CreateDateTime']>'2020-08-05 00:00:00')&(Daten_0['CreateDateTime']<'2020-08-20 00:00:00')]\n",
    "Daten_0.to_csv(r'D:\\留德十年\\TUD\\ADP\\Data\\2020\\ID_52_2020_0809.csv')"
   ]
  },
  {
   "cell_type": "code",
   "execution_count": 3,
   "id": "bacff74c",
   "metadata": {},
   "outputs": [
    {
     "data": {
      "text/html": [
       "<div>\n",
       "<style scoped>\n",
       "    .dataframe tbody tr th:only-of-type {\n",
       "        vertical-align: middle;\n",
       "    }\n",
       "\n",
       "    .dataframe tbody tr th {\n",
       "        vertical-align: top;\n",
       "    }\n",
       "\n",
       "    .dataframe thead th {\n",
       "        text-align: right;\n",
       "    }\n",
       "</style>\n",
       "<table border=\"1\" class=\"dataframe\">\n",
       "  <thead>\n",
       "    <tr style=\"text-align: right;\">\n",
       "      <th></th>\n",
       "      <th>CreateDateTime</th>\n",
       "      <th>TagValue</th>\n",
       "      <th>TagId</th>\n",
       "    </tr>\n",
       "  </thead>\n",
       "  <tbody>\n",
       "    <tr>\n",
       "      <th>0</th>\n",
       "      <td>2020-02-06 13:05:56.982</td>\n",
       "      <td>-4.050903</td>\n",
       "      <td>51</td>\n",
       "    </tr>\n",
       "    <tr>\n",
       "      <th>1</th>\n",
       "      <td>2020-02-06 13:05:57.207</td>\n",
       "      <td>-2.314819</td>\n",
       "      <td>51</td>\n",
       "    </tr>\n",
       "    <tr>\n",
       "      <th>2</th>\n",
       "      <td>2020-02-06 13:05:57.411</td>\n",
       "      <td>-4.050903</td>\n",
       "      <td>51</td>\n",
       "    </tr>\n",
       "    <tr>\n",
       "      <th>3</th>\n",
       "      <td>2020-02-06 13:05:58.025</td>\n",
       "      <td>-2.314819</td>\n",
       "      <td>51</td>\n",
       "    </tr>\n",
       "    <tr>\n",
       "      <th>4</th>\n",
       "      <td>2020-02-06 13:05:58.230</td>\n",
       "      <td>-3.472168</td>\n",
       "      <td>51</td>\n",
       "    </tr>\n",
       "  </tbody>\n",
       "</table>\n",
       "</div>"
      ],
      "text/plain": [
       "           CreateDateTime  TagValue  TagId\n",
       "0 2020-02-06 13:05:56.982 -4.050903     51\n",
       "1 2020-02-06 13:05:57.207 -2.314819     51\n",
       "2 2020-02-06 13:05:57.411 -4.050903     51\n",
       "3 2020-02-06 13:05:58.025 -2.314819     51\n",
       "4 2020-02-06 13:05:58.230 -3.472168     51"
      ]
     },
     "execution_count": 3,
     "metadata": {},
     "output_type": "execute_result"
    }
   ],
   "source": [
    "ID_51_2020.head()"
   ]
  },
  {
   "cell_type": "code",
   "execution_count": 18,
   "id": "a094bea5",
   "metadata": {},
   "outputs": [
    {
     "data": {
      "text/plain": [
       "<AxesSubplot:xlabel='CreateDateTime'>"
      ]
     },
     "execution_count": 18,
     "metadata": {},
     "output_type": "execute_result"
    },
    {
     "data": {
      "image/png": "[encoded data removed]",
      "text/plain": [
       "<Figure size 432x288 with 1 Axes>"
      ]
     },
     "metadata": {
      "needs_background": "light"
     },
     "output_type": "display_data"
    }
   ],
   "source": [
    "ID_51_2020.plot('CreateDateTime','TagValue')"
   ]
  },
  {
   "cell_type": "code",
   "execution_count": 3,
   "id": "d7c5d75f",
   "metadata": {},
   "outputs": [
    {
     "data": {
      "text/plain": [
       "<AxesSubplot:xlabel='CreateDateTime'>"
      ]
     },
     "execution_count": 3,
     "metadata": {},
     "output_type": "execute_result"
    },
    {
     "data": {
      "image/png": "[encoded data removed]",
      "text/plain": [
       "<Figure size 432x288 with 1 Axes>"
      ]
     },
     "metadata": {
      "needs_background": "light"
     },
     "output_type": "display_data"
    }
   ],
   "source": [
    "ID_51_2020_0809.plot('CreateDateTime','TagValue')"
   ]
  },
  {
   "cell_type": "code",
   "execution_count": 26,
   "id": "0bbd853b",
   "metadata": {},
   "outputs": [
    {
     "data": {
      "image/png": "[encoded data removed]",
      "text/plain": [
       "<Figure size 1440x576 with 1 Axes>"
      ]
     },
     "metadata": {
      "needs_background": "light"
     },
     "output_type": "display_data"
    }
   ],
   "source": [
    "Daten_1=ID_51_2020\n",
    "# Daten_2=ID_123_2020\n",
    "\n",
    "\n",
    "Daten_1=Daten_1[(Daten_1['CreateDateTime']>'2020-03-01 00:40:00')&(Daten_1['CreateDateTime']<'2020-03-01 10:00:00')]\n",
    "# Daten_2=Daten_2[(Daten_2['CreateDateTime']>'2020-03-01 00:40:00')&(Daten_2['CreateDateTime']<'2020-05-06 17:00:00')]\n",
    "\n",
    "\n",
    "fig, ax = plt.subplots(figsize=(20, 8))\n",
    "col1 = 'steelblue'\n",
    "col2 = 'red'\n",
    "col3='black'\n",
    "col4='green'\n",
    "col5='magenta'\n",
    "col6='cyan'\n",
    "\n",
    "\n",
    "ax.set_xlabel('Datum und Uhrzeit', fontsize=14)\n",
    "ax.set_ylabel('ID_51_2020_', color=col1, fontsize=16)\n",
    "ax.scatter(Daten_1.CreateDateTime, Daten_1.TagValue, color=col1)\n",
    "ax.tick_params(axis='y', labelcolor=col1)\n",
    "#plt.ylim((0, 100))\n",
    "\n",
    "\n",
    "#define second y-axis that shares x-axis with current plot\n",
    "\n",
    "\n",
    "# ax2 = ax.twinx()\n",
    "# #ax2 = ax.twiny()\n",
    "# #add second line to plot\n",
    "# ax2.set_ylabel('ID_123_2020', color=col2, fontsize=16)\n",
    "# ax2.plot(Daten_2.CreateDateTime, Daten_2.TagValue, color=col2)\n",
    "# ax2.tick_params(axis='y', labelcolor=col2)\n",
    "# #plt.ylim((-1,10))"
   ]
  },
  {
   "cell_type": "code",
   "execution_count": 20,
   "id": "8f760530",
   "metadata": {},
   "outputs": [
    {
     "data": {
      "image/png": "[encoded data removed]",
      "text/plain": [
       "<Figure size 1080x576 with 1 Axes>"
      ]
     },
     "metadata": {
      "needs_background": "light"
     },
     "output_type": "display_data"
    }
   ],
   "source": [
    "ID_51_2020[\"TagValue\"].hist(bins=50,figsize=(15,8))\n",
    "plt.xlim((-550,50))\n",
    "plt.show()"
   ]
  },
  {
   "cell_type": "code",
   "execution_count": 27,
   "id": "c6f87225",
   "metadata": {},
   "outputs": [
    {
     "name": "stdout",
     "output_type": "stream",
     "text": [
      "<class 'pandas.core.frame.DataFrame'>\n",
      "Int64Index: 41324356 entries, 0 to 41324355\n",
      "Data columns (total 3 columns):\n",
      " #   Column          Dtype         \n",
      "---  ------          -----         \n",
      " 0   CreateDateTime  datetime64[ns]\n",
      " 1   TagValue        float64       \n",
      " 2   TagId           int32         \n",
      "dtypes: datetime64[ns](1), float64(1), int32(1)\n",
      "memory usage: 1.1 GB\n"
     ]
    }
   ],
   "source": [
    "ID_51_2020.info()"
   ]
  },
  {
   "cell_type": "code",
   "execution_count": 35,
   "id": "56f5504a",
   "metadata": {},
   "outputs": [
    {
     "data": {
      "text/html": [
       "<div>\n",
       "<style scoped>\n",
       "    .dataframe tbody tr th:only-of-type {\n",
       "        vertical-align: middle;\n",
       "    }\n",
       "\n",
       "    .dataframe tbody tr th {\n",
       "        vertical-align: top;\n",
       "    }\n",
       "\n",
       "    .dataframe thead th {\n",
       "        text-align: right;\n",
       "    }\n",
       "</style>\n",
       "<table border=\"1\" class=\"dataframe\">\n",
       "  <thead>\n",
       "    <tr style=\"text-align: right;\">\n",
       "      <th></th>\n",
       "      <th>CreateDateTime</th>\n",
       "      <th>TagValue</th>\n",
       "      <th>TagId</th>\n",
       "      <th>TagValue_0</th>\n",
       "    </tr>\n",
       "  </thead>\n",
       "  <tbody>\n",
       "    <tr>\n",
       "      <th>14330973</th>\n",
       "      <td>2020-08-05 00:00:00.150</td>\n",
       "      <td>-4.629639</td>\n",
       "      <td>51</td>\n",
       "      <td>0</td>\n",
       "    </tr>\n",
       "    <tr>\n",
       "      <th>14330974</th>\n",
       "      <td>2020-08-05 00:00:00.348</td>\n",
       "      <td>-1.736084</td>\n",
       "      <td>51</td>\n",
       "      <td>0</td>\n",
       "    </tr>\n",
       "    <tr>\n",
       "      <th>14330975</th>\n",
       "      <td>2020-08-05 00:00:00.562</td>\n",
       "      <td>-8.680542</td>\n",
       "      <td>51</td>\n",
       "      <td>0</td>\n",
       "    </tr>\n",
       "    <tr>\n",
       "      <th>14330976</th>\n",
       "      <td>2020-08-05 00:00:00.759</td>\n",
       "      <td>-3.472168</td>\n",
       "      <td>51</td>\n",
       "      <td>0</td>\n",
       "    </tr>\n",
       "    <tr>\n",
       "      <th>14330977</th>\n",
       "      <td>2020-08-05 00:00:00.974</td>\n",
       "      <td>-5.208374</td>\n",
       "      <td>51</td>\n",
       "      <td>0</td>\n",
       "    </tr>\n",
       "    <tr>\n",
       "      <th>...</th>\n",
       "      <td>...</td>\n",
       "      <td>...</td>\n",
       "      <td>...</td>\n",
       "      <td>...</td>\n",
       "    </tr>\n",
       "    <tr>\n",
       "      <th>17766231</th>\n",
       "      <td>2020-08-19 23:59:59.011</td>\n",
       "      <td>-229.166600</td>\n",
       "      <td>51</td>\n",
       "      <td>-275</td>\n",
       "    </tr>\n",
       "    <tr>\n",
       "      <th>17766232</th>\n",
       "      <td>2020-08-19 23:59:59.218</td>\n",
       "      <td>-225.694400</td>\n",
       "      <td>51</td>\n",
       "      <td>-275</td>\n",
       "    </tr>\n",
       "    <tr>\n",
       "      <th>17766233</th>\n",
       "      <td>2020-08-19 23:59:59.424</td>\n",
       "      <td>-221.064800</td>\n",
       "      <td>51</td>\n",
       "      <td>-275</td>\n",
       "    </tr>\n",
       "    <tr>\n",
       "      <th>17766234</th>\n",
       "      <td>2020-08-19 23:59:59.632</td>\n",
       "      <td>-219.328700</td>\n",
       "      <td>51</td>\n",
       "      <td>-275</td>\n",
       "    </tr>\n",
       "    <tr>\n",
       "      <th>17766235</th>\n",
       "      <td>2020-08-19 23:59:59.845</td>\n",
       "      <td>-222.222200</td>\n",
       "      <td>51</td>\n",
       "      <td>-275</td>\n",
       "    </tr>\n",
       "  </tbody>\n",
       "</table>\n",
       "<p>3435263 rows × 4 columns</p>\n",
       "</div>"
      ],
      "text/plain": [
       "                  CreateDateTime    TagValue  TagId  TagValue_0\n",
       "14330973 2020-08-05 00:00:00.150   -4.629639     51           0\n",
       "14330974 2020-08-05 00:00:00.348   -1.736084     51           0\n",
       "14330975 2020-08-05 00:00:00.562   -8.680542     51           0\n",
       "14330976 2020-08-05 00:00:00.759   -3.472168     51           0\n",
       "14330977 2020-08-05 00:00:00.974   -5.208374     51           0\n",
       "...                          ...         ...    ...         ...\n",
       "17766231 2020-08-19 23:59:59.011 -229.166600     51        -275\n",
       "17766232 2020-08-19 23:59:59.218 -225.694400     51        -275\n",
       "17766233 2020-08-19 23:59:59.424 -221.064800     51        -275\n",
       "17766234 2020-08-19 23:59:59.632 -219.328700     51        -275\n",
       "17766235 2020-08-19 23:59:59.845 -222.222200     51        -275\n",
       "\n",
       "[3435263 rows x 4 columns]"
      ]
     },
     "execution_count": 35,
     "metadata": {},
     "output_type": "execute_result"
    }
   ],
   "source": [
    "TREE_1=ID_51_2020_0809\n",
    "TREE_1['TagValue_0'] = TREE_1['TagValue'].apply(lambda x: -275 if (x<-200) & (x>-350) else 0)\n",
    "TREE_1"
   ]
  },
  {
   "cell_type": "code",
   "execution_count": 36,
   "id": "b177c406",
   "metadata": {},
   "outputs": [
    {
     "data": {
      "text/html": [
       "<div>\n",
       "<style scoped>\n",
       "    .dataframe tbody tr th:only-of-type {\n",
       "        vertical-align: middle;\n",
       "    }\n",
       "\n",
       "    .dataframe tbody tr th {\n",
       "        vertical-align: top;\n",
       "    }\n",
       "\n",
       "    .dataframe thead th {\n",
       "        text-align: right;\n",
       "    }\n",
       "</style>\n",
       "<table border=\"1\" class=\"dataframe\">\n",
       "  <thead>\n",
       "    <tr style=\"text-align: right;\">\n",
       "      <th></th>\n",
       "      <th>CreateDateTime</th>\n",
       "      <th>TagValue</th>\n",
       "      <th>TagId</th>\n",
       "      <th>TagValue_0</th>\n",
       "    </tr>\n",
       "  </thead>\n",
       "  <tbody>\n",
       "    <tr>\n",
       "      <th>14330973</th>\n",
       "      <td>2020-08-05 00:00:00.150</td>\n",
       "      <td>-4.629639</td>\n",
       "      <td>51</td>\n",
       "      <td>0</td>\n",
       "    </tr>\n",
       "    <tr>\n",
       "      <th>14330974</th>\n",
       "      <td>2020-08-05 00:00:00.348</td>\n",
       "      <td>-1.736084</td>\n",
       "      <td>51</td>\n",
       "      <td>0</td>\n",
       "    </tr>\n",
       "    <tr>\n",
       "      <th>14330975</th>\n",
       "      <td>2020-08-05 00:00:00.562</td>\n",
       "      <td>-8.680542</td>\n",
       "      <td>51</td>\n",
       "      <td>0</td>\n",
       "    </tr>\n",
       "    <tr>\n",
       "      <th>14330976</th>\n",
       "      <td>2020-08-05 00:00:00.759</td>\n",
       "      <td>-3.472168</td>\n",
       "      <td>51</td>\n",
       "      <td>0</td>\n",
       "    </tr>\n",
       "    <tr>\n",
       "      <th>14330977</th>\n",
       "      <td>2020-08-05 00:00:00.974</td>\n",
       "      <td>-5.208374</td>\n",
       "      <td>51</td>\n",
       "      <td>0</td>\n",
       "    </tr>\n",
       "    <tr>\n",
       "      <th>...</th>\n",
       "      <td>...</td>\n",
       "      <td>...</td>\n",
       "      <td>...</td>\n",
       "      <td>...</td>\n",
       "    </tr>\n",
       "    <tr>\n",
       "      <th>17766231</th>\n",
       "      <td>2020-08-19 23:59:59.011</td>\n",
       "      <td>-229.166600</td>\n",
       "      <td>51</td>\n",
       "      <td>-275</td>\n",
       "    </tr>\n",
       "    <tr>\n",
       "      <th>17766232</th>\n",
       "      <td>2020-08-19 23:59:59.218</td>\n",
       "      <td>-225.694400</td>\n",
       "      <td>51</td>\n",
       "      <td>-275</td>\n",
       "    </tr>\n",
       "    <tr>\n",
       "      <th>17766233</th>\n",
       "      <td>2020-08-19 23:59:59.424</td>\n",
       "      <td>-221.064800</td>\n",
       "      <td>51</td>\n",
       "      <td>-275</td>\n",
       "    </tr>\n",
       "    <tr>\n",
       "      <th>17766234</th>\n",
       "      <td>2020-08-19 23:59:59.632</td>\n",
       "      <td>-219.328700</td>\n",
       "      <td>51</td>\n",
       "      <td>-275</td>\n",
       "    </tr>\n",
       "    <tr>\n",
       "      <th>17766235</th>\n",
       "      <td>2020-08-19 23:59:59.845</td>\n",
       "      <td>-222.222200</td>\n",
       "      <td>51</td>\n",
       "      <td>-275</td>\n",
       "    </tr>\n",
       "  </tbody>\n",
       "</table>\n",
       "<p>3435263 rows × 4 columns</p>\n",
       "</div>"
      ],
      "text/plain": [
       "                  CreateDateTime    TagValue  TagId  TagValue_0\n",
       "14330973 2020-08-05 00:00:00.150   -4.629639     51           0\n",
       "14330974 2020-08-05 00:00:00.348   -1.736084     51           0\n",
       "14330975 2020-08-05 00:00:00.562   -8.680542     51           0\n",
       "14330976 2020-08-05 00:00:00.759   -3.472168     51           0\n",
       "14330977 2020-08-05 00:00:00.974   -5.208374     51           0\n",
       "...                          ...         ...    ...         ...\n",
       "17766231 2020-08-19 23:59:59.011 -229.166600     51        -275\n",
       "17766232 2020-08-19 23:59:59.218 -225.694400     51        -275\n",
       "17766233 2020-08-19 23:59:59.424 -221.064800     51        -275\n",
       "17766234 2020-08-19 23:59:59.632 -219.328700     51        -275\n",
       "17766235 2020-08-19 23:59:59.845 -222.222200     51        -275\n",
       "\n",
       "[3435263 rows x 4 columns]"
      ]
     },
     "execution_count": 36,
     "metadata": {},
     "output_type": "execute_result"
    }
   ],
   "source": [
    "def filter_func(x):\n",
    "    if (x<-200) & (x>-350):\n",
    "        return -275\n",
    "    elif x<-350:\n",
    "        return -430\n",
    "    else:\n",
    "        return 0\n",
    "df = ID_51_2020_0809    \n",
    "TREE_1['TagValue_0'] = TREE_1['TagValue'].apply(filter_func)\n",
    "TREE_1"
   ]
  },
  {
   "cell_type": "code",
   "execution_count": 37,
   "id": "165fdbb3",
   "metadata": {},
   "outputs": [
    {
     "data": {
      "text/html": [
       "<div>\n",
       "<style scoped>\n",
       "    .dataframe tbody tr th:only-of-type {\n",
       "        vertical-align: middle;\n",
       "    }\n",
       "\n",
       "    .dataframe tbody tr th {\n",
       "        vertical-align: top;\n",
       "    }\n",
       "\n",
       "    .dataframe thead th {\n",
       "        text-align: right;\n",
       "    }\n",
       "</style>\n",
       "<table border=\"1\" class=\"dataframe\">\n",
       "  <thead>\n",
       "    <tr style=\"text-align: right;\">\n",
       "      <th></th>\n",
       "      <th>CreateDateTime</th>\n",
       "      <th>TagValue</th>\n",
       "      <th>TagId</th>\n",
       "      <th>TagValue_0</th>\n",
       "    </tr>\n",
       "  </thead>\n",
       "  <tbody>\n",
       "    <tr>\n",
       "      <th>14340425</th>\n",
       "      <td>2020-08-05 00:40:00.128</td>\n",
       "      <td>-2.314819</td>\n",
       "      <td>51</td>\n",
       "      <td>0</td>\n",
       "    </tr>\n",
       "    <tr>\n",
       "      <th>14340426</th>\n",
       "      <td>2020-08-05 00:40:00.336</td>\n",
       "      <td>-7.523193</td>\n",
       "      <td>51</td>\n",
       "      <td>0</td>\n",
       "    </tr>\n",
       "    <tr>\n",
       "      <th>14340427</th>\n",
       "      <td>2020-08-05 00:40:00.544</td>\n",
       "      <td>-2.314819</td>\n",
       "      <td>51</td>\n",
       "      <td>0</td>\n",
       "    </tr>\n",
       "    <tr>\n",
       "      <th>14340428</th>\n",
       "      <td>2020-08-05 00:40:00.754</td>\n",
       "      <td>-5.208374</td>\n",
       "      <td>51</td>\n",
       "      <td>0</td>\n",
       "    </tr>\n",
       "    <tr>\n",
       "      <th>14340429</th>\n",
       "      <td>2020-08-05 00:40:00.969</td>\n",
       "      <td>-3.472168</td>\n",
       "      <td>51</td>\n",
       "      <td>0</td>\n",
       "    </tr>\n",
       "    <tr>\n",
       "      <th>...</th>\n",
       "      <td>...</td>\n",
       "      <td>...</td>\n",
       "      <td>...</td>\n",
       "      <td>...</td>\n",
       "    </tr>\n",
       "    <tr>\n",
       "      <th>14372734</th>\n",
       "      <td>2020-08-05 02:59:58.972</td>\n",
       "      <td>-431.134310</td>\n",
       "      <td>51</td>\n",
       "      <td>-430</td>\n",
       "    </tr>\n",
       "    <tr>\n",
       "      <th>14372735</th>\n",
       "      <td>2020-08-05 02:59:59.175</td>\n",
       "      <td>-429.976900</td>\n",
       "      <td>51</td>\n",
       "      <td>-430</td>\n",
       "    </tr>\n",
       "    <tr>\n",
       "      <th>14372736</th>\n",
       "      <td>2020-08-05 02:59:59.396</td>\n",
       "      <td>-431.713010</td>\n",
       "      <td>51</td>\n",
       "      <td>-430</td>\n",
       "    </tr>\n",
       "    <tr>\n",
       "      <th>14372737</th>\n",
       "      <td>2020-08-05 02:59:59.589</td>\n",
       "      <td>-431.134310</td>\n",
       "      <td>51</td>\n",
       "      <td>-430</td>\n",
       "    </tr>\n",
       "    <tr>\n",
       "      <th>14372738</th>\n",
       "      <td>2020-08-05 02:59:59.996</td>\n",
       "      <td>-432.291690</td>\n",
       "      <td>51</td>\n",
       "      <td>-430</td>\n",
       "    </tr>\n",
       "  </tbody>\n",
       "</table>\n",
       "<p>32314 rows × 4 columns</p>\n",
       "</div>"
      ],
      "text/plain": [
       "                  CreateDateTime    TagValue  TagId  TagValue_0\n",
       "14340425 2020-08-05 00:40:00.128   -2.314819     51           0\n",
       "14340426 2020-08-05 00:40:00.336   -7.523193     51           0\n",
       "14340427 2020-08-05 00:40:00.544   -2.314819     51           0\n",
       "14340428 2020-08-05 00:40:00.754   -5.208374     51           0\n",
       "14340429 2020-08-05 00:40:00.969   -3.472168     51           0\n",
       "...                          ...         ...    ...         ...\n",
       "14372734 2020-08-05 02:59:58.972 -431.134310     51        -430\n",
       "14372735 2020-08-05 02:59:59.175 -429.976900     51        -430\n",
       "14372736 2020-08-05 02:59:59.396 -431.713010     51        -430\n",
       "14372737 2020-08-05 02:59:59.589 -431.134310     51        -430\n",
       "14372738 2020-08-05 02:59:59.996 -432.291690     51        -430\n",
       "\n",
       "[32314 rows x 4 columns]"
      ]
     },
     "execution_count": 37,
     "metadata": {},
     "output_type": "execute_result"
    }
   ],
   "source": [
    "Daten_1 = TREE_1\n",
    "Daten_1=Daten_1[(Daten_1['CreateDateTime']>'2020-08-05 00:40:00')&(Daten_1['CreateDateTime']<'2020-08-05 3:00:00')]\n",
    "Daten_1"
   ]
  },
  {
   "cell_type": "code",
   "execution_count": 38,
   "id": "5bd85584",
   "metadata": {},
   "outputs": [
    {
     "data": {
      "text/html": [
       "<div>\n",
       "<style scoped>\n",
       "    .dataframe tbody tr th:only-of-type {\n",
       "        vertical-align: middle;\n",
       "    }\n",
       "\n",
       "    .dataframe tbody tr th {\n",
       "        vertical-align: top;\n",
       "    }\n",
       "\n",
       "    .dataframe thead th {\n",
       "        text-align: right;\n",
       "    }\n",
       "</style>\n",
       "<table border=\"1\" class=\"dataframe\">\n",
       "  <thead>\n",
       "    <tr style=\"text-align: right;\">\n",
       "      <th></th>\n",
       "      <th>CreateDateTime</th>\n",
       "      <th>TagValue_0</th>\n",
       "    </tr>\n",
       "  </thead>\n",
       "  <tbody>\n",
       "    <tr>\n",
       "      <th>14330973</th>\n",
       "      <td>2020-08-05 00:00:00.150</td>\n",
       "      <td>0</td>\n",
       "    </tr>\n",
       "    <tr>\n",
       "      <th>14330974</th>\n",
       "      <td>2020-08-05 00:00:00.348</td>\n",
       "      <td>0</td>\n",
       "    </tr>\n",
       "    <tr>\n",
       "      <th>14330975</th>\n",
       "      <td>2020-08-05 00:00:00.562</td>\n",
       "      <td>0</td>\n",
       "    </tr>\n",
       "    <tr>\n",
       "      <th>14330976</th>\n",
       "      <td>2020-08-05 00:00:00.759</td>\n",
       "      <td>0</td>\n",
       "    </tr>\n",
       "    <tr>\n",
       "      <th>14330977</th>\n",
       "      <td>2020-08-05 00:00:00.974</td>\n",
       "      <td>0</td>\n",
       "    </tr>\n",
       "    <tr>\n",
       "      <th>...</th>\n",
       "      <td>...</td>\n",
       "      <td>...</td>\n",
       "    </tr>\n",
       "    <tr>\n",
       "      <th>17766231</th>\n",
       "      <td>2020-08-19 23:59:59.011</td>\n",
       "      <td>-275</td>\n",
       "    </tr>\n",
       "    <tr>\n",
       "      <th>17766232</th>\n",
       "      <td>2020-08-19 23:59:59.218</td>\n",
       "      <td>-275</td>\n",
       "    </tr>\n",
       "    <tr>\n",
       "      <th>17766233</th>\n",
       "      <td>2020-08-19 23:59:59.424</td>\n",
       "      <td>-275</td>\n",
       "    </tr>\n",
       "    <tr>\n",
       "      <th>17766234</th>\n",
       "      <td>2020-08-19 23:59:59.632</td>\n",
       "      <td>-275</td>\n",
       "    </tr>\n",
       "    <tr>\n",
       "      <th>17766235</th>\n",
       "      <td>2020-08-19 23:59:59.845</td>\n",
       "      <td>-275</td>\n",
       "    </tr>\n",
       "  </tbody>\n",
       "</table>\n",
       "<p>3435263 rows × 2 columns</p>\n",
       "</div>"
      ],
      "text/plain": [
       "                  CreateDateTime  TagValue_0\n",
       "14330973 2020-08-05 00:00:00.150           0\n",
       "14330974 2020-08-05 00:00:00.348           0\n",
       "14330975 2020-08-05 00:00:00.562           0\n",
       "14330976 2020-08-05 00:00:00.759           0\n",
       "14330977 2020-08-05 00:00:00.974           0\n",
       "...                          ...         ...\n",
       "17766231 2020-08-19 23:59:59.011        -275\n",
       "17766232 2020-08-19 23:59:59.218        -275\n",
       "17766233 2020-08-19 23:59:59.424        -275\n",
       "17766234 2020-08-19 23:59:59.632        -275\n",
       "17766235 2020-08-19 23:59:59.845        -275\n",
       "\n",
       "[3435263 rows x 2 columns]"
      ]
     },
     "execution_count": 38,
     "metadata": {},
     "output_type": "execute_result"
    }
   ],
   "source": [
    "TREE_1 = TREE_1.drop('TagValue',axis = 1) \n",
    "TREE_1 = TREE_1.drop('TagId',axis = 1) \n",
    "TREE_1"
   ]
  },
  {
   "cell_type": "code",
   "execution_count": 39,
   "id": "c1b34b6f",
   "metadata": {},
   "outputs": [],
   "source": [
    "def zusammen(data,TREE_1):\n",
    "    data = data[(data['CreateDateTime']>'2020-08-05 00:00:00')&(data['CreateDateTime']<'2020-08-20 00:00:00')]\n",
    "    data = data.drop('TagId',axis = 1) \n",
    "    TREE_1 = TREE_1.set_index('CreateDateTime').join(data.set_index('CreateDateTime'),lsuffix = '_l', rsuffix = '_r',how = 'outer')\n",
    "    TREE_1 = TREE_1.reset_index('CreateDateTime')\n",
    "    TREE_1 = TREE_1.fillna(method = \"ffill\")\n",
    "    return TREE_1\n"
   ]
  },
  {
   "cell_type": "code",
   "execution_count": 40,
   "id": "c4e3b663",
   "metadata": {},
   "outputs": [
    {
     "data": {
      "text/html": [
       "<div>\n",
       "<style scoped>\n",
       "    .dataframe tbody tr th:only-of-type {\n",
       "        vertical-align: middle;\n",
       "    }\n",
       "\n",
       "    .dataframe tbody tr th {\n",
       "        vertical-align: top;\n",
       "    }\n",
       "\n",
       "    .dataframe thead th {\n",
       "        text-align: right;\n",
       "    }\n",
       "</style>\n",
       "<table border=\"1\" class=\"dataframe\">\n",
       "  <thead>\n",
       "    <tr style=\"text-align: right;\">\n",
       "      <th></th>\n",
       "      <th>CreateDateTime</th>\n",
       "      <th>TagValue_0</th>\n",
       "      <th>TagValue_85</th>\n",
       "    </tr>\n",
       "  </thead>\n",
       "  <tbody>\n",
       "    <tr>\n",
       "      <th>0</th>\n",
       "      <td>2020-08-05 00:00:00.150</td>\n",
       "      <td>0.0</td>\n",
       "      <td>NaN</td>\n",
       "    </tr>\n",
       "    <tr>\n",
       "      <th>1</th>\n",
       "      <td>2020-08-05 00:00:00.348</td>\n",
       "      <td>0.0</td>\n",
       "      <td>NaN</td>\n",
       "    </tr>\n",
       "    <tr>\n",
       "      <th>2</th>\n",
       "      <td>2020-08-05 00:00:00.562</td>\n",
       "      <td>0.0</td>\n",
       "      <td>NaN</td>\n",
       "    </tr>\n",
       "    <tr>\n",
       "      <th>3</th>\n",
       "      <td>2020-08-05 00:00:00.759</td>\n",
       "      <td>0.0</td>\n",
       "      <td>NaN</td>\n",
       "    </tr>\n",
       "    <tr>\n",
       "      <th>4</th>\n",
       "      <td>2020-08-05 00:00:00.974</td>\n",
       "      <td>0.0</td>\n",
       "      <td>NaN</td>\n",
       "    </tr>\n",
       "    <tr>\n",
       "      <th>...</th>\n",
       "      <td>...</td>\n",
       "      <td>...</td>\n",
       "      <td>...</td>\n",
       "    </tr>\n",
       "    <tr>\n",
       "      <th>3436350</th>\n",
       "      <td>2020-08-19 23:59:59.011</td>\n",
       "      <td>-275.0</td>\n",
       "      <td>1.0</td>\n",
       "    </tr>\n",
       "    <tr>\n",
       "      <th>3436351</th>\n",
       "      <td>2020-08-19 23:59:59.218</td>\n",
       "      <td>-275.0</td>\n",
       "      <td>1.0</td>\n",
       "    </tr>\n",
       "    <tr>\n",
       "      <th>3436352</th>\n",
       "      <td>2020-08-19 23:59:59.424</td>\n",
       "      <td>-275.0</td>\n",
       "      <td>1.0</td>\n",
       "    </tr>\n",
       "    <tr>\n",
       "      <th>3436353</th>\n",
       "      <td>2020-08-19 23:59:59.632</td>\n",
       "      <td>-275.0</td>\n",
       "      <td>1.0</td>\n",
       "    </tr>\n",
       "    <tr>\n",
       "      <th>3436354</th>\n",
       "      <td>2020-08-19 23:59:59.845</td>\n",
       "      <td>-275.0</td>\n",
       "      <td>1.0</td>\n",
       "    </tr>\n",
       "  </tbody>\n",
       "</table>\n",
       "<p>3436355 rows × 3 columns</p>\n",
       "</div>"
      ],
      "text/plain": [
       "                 CreateDateTime  TagValue_0  TagValue_85\n",
       "0       2020-08-05 00:00:00.150         0.0          NaN\n",
       "1       2020-08-05 00:00:00.348         0.0          NaN\n",
       "2       2020-08-05 00:00:00.562         0.0          NaN\n",
       "3       2020-08-05 00:00:00.759         0.0          NaN\n",
       "4       2020-08-05 00:00:00.974         0.0          NaN\n",
       "...                         ...         ...          ...\n",
       "3436350 2020-08-19 23:59:59.011      -275.0          1.0\n",
       "3436351 2020-08-19 23:59:59.218      -275.0          1.0\n",
       "3436352 2020-08-19 23:59:59.424      -275.0          1.0\n",
       "3436353 2020-08-19 23:59:59.632      -275.0          1.0\n",
       "3436354 2020-08-19 23:59:59.845      -275.0          1.0\n",
       "\n",
       "[3436355 rows x 3 columns]"
      ]
     },
     "execution_count": 40,
     "metadata": {},
     "output_type": "execute_result"
    }
   ],
   "source": [
    "TREE_1 = zusammen(ID_85_2020,TREE_1)\n",
    "TREE_1.rename(columns = {'TagValue':'TagValue_85'}, inplace=True)\n",
    "TREE_1 "
   ]
  },
  {
   "cell_type": "code",
   "execution_count": 41,
   "id": "92a363b3",
   "metadata": {},
   "outputs": [
    {
     "data": {
      "text/plain": [
       "CreateDateTime       0\n",
       "TagValue_0           0\n",
       "TagValue_85       1761\n",
       "dtype: int64"
      ]
     },
     "execution_count": 41,
     "metadata": {},
     "output_type": "execute_result"
    }
   ],
   "source": [
    "TREE_1.isnull().sum()"
   ]
  },
  {
   "cell_type": "code",
   "execution_count": null,
   "id": "ae8f112e",
   "metadata": {},
   "outputs": [],
   "source": [
    "df['class'].value_counts()"
   ]
  },
  {
   "cell_type": "code",
   "execution_count": 42,
   "id": "121f318a",
   "metadata": {},
   "outputs": [
    {
     "data": {
      "text/html": [
       "<div>\n",
       "<style scoped>\n",
       "    .dataframe tbody tr th:only-of-type {\n",
       "        vertical-align: middle;\n",
       "    }\n",
       "\n",
       "    .dataframe tbody tr th {\n",
       "        vertical-align: top;\n",
       "    }\n",
       "\n",
       "    .dataframe thead th {\n",
       "        text-align: right;\n",
       "    }\n",
       "</style>\n",
       "<table border=\"1\" class=\"dataframe\">\n",
       "  <thead>\n",
       "    <tr style=\"text-align: right;\">\n",
       "      <th></th>\n",
       "      <th>CreateDateTime</th>\n",
       "      <th>TagValue_0</th>\n",
       "      <th>TagValue_85</th>\n",
       "      <th>TagValue_45</th>\n",
       "    </tr>\n",
       "  </thead>\n",
       "  <tbody>\n",
       "    <tr>\n",
       "      <th>0</th>\n",
       "      <td>2020-08-05 00:00:00.150</td>\n",
       "      <td>0.0</td>\n",
       "      <td>NaN</td>\n",
       "      <td>NaN</td>\n",
       "    </tr>\n",
       "    <tr>\n",
       "      <th>1</th>\n",
       "      <td>2020-08-05 00:00:00.348</td>\n",
       "      <td>0.0</td>\n",
       "      <td>NaN</td>\n",
       "      <td>NaN</td>\n",
       "    </tr>\n",
       "    <tr>\n",
       "      <th>2</th>\n",
       "      <td>2020-08-05 00:00:00.562</td>\n",
       "      <td>0.0</td>\n",
       "      <td>NaN</td>\n",
       "      <td>NaN</td>\n",
       "    </tr>\n",
       "    <tr>\n",
       "      <th>3</th>\n",
       "      <td>2020-08-05 00:00:00.759</td>\n",
       "      <td>0.0</td>\n",
       "      <td>NaN</td>\n",
       "      <td>NaN</td>\n",
       "    </tr>\n",
       "    <tr>\n",
       "      <th>4</th>\n",
       "      <td>2020-08-05 00:00:00.974</td>\n",
       "      <td>0.0</td>\n",
       "      <td>NaN</td>\n",
       "      <td>NaN</td>\n",
       "    </tr>\n",
       "    <tr>\n",
       "      <th>...</th>\n",
       "      <td>...</td>\n",
       "      <td>...</td>\n",
       "      <td>...</td>\n",
       "      <td>...</td>\n",
       "    </tr>\n",
       "    <tr>\n",
       "      <th>3436912</th>\n",
       "      <td>2020-08-19 23:59:59.011</td>\n",
       "      <td>-275.0</td>\n",
       "      <td>1.0</td>\n",
       "      <td>1.0</td>\n",
       "    </tr>\n",
       "    <tr>\n",
       "      <th>3436913</th>\n",
       "      <td>2020-08-19 23:59:59.218</td>\n",
       "      <td>-275.0</td>\n",
       "      <td>1.0</td>\n",
       "      <td>1.0</td>\n",
       "    </tr>\n",
       "    <tr>\n",
       "      <th>3436914</th>\n",
       "      <td>2020-08-19 23:59:59.424</td>\n",
       "      <td>-275.0</td>\n",
       "      <td>1.0</td>\n",
       "      <td>1.0</td>\n",
       "    </tr>\n",
       "    <tr>\n",
       "      <th>3436915</th>\n",
       "      <td>2020-08-19 23:59:59.632</td>\n",
       "      <td>-275.0</td>\n",
       "      <td>1.0</td>\n",
       "      <td>1.0</td>\n",
       "    </tr>\n",
       "    <tr>\n",
       "      <th>3436916</th>\n",
       "      <td>2020-08-19 23:59:59.845</td>\n",
       "      <td>-275.0</td>\n",
       "      <td>1.0</td>\n",
       "      <td>1.0</td>\n",
       "    </tr>\n",
       "  </tbody>\n",
       "</table>\n",
       "<p>3436917 rows × 4 columns</p>\n",
       "</div>"
      ],
      "text/plain": [
       "                 CreateDateTime  TagValue_0  TagValue_85  TagValue_45\n",
       "0       2020-08-05 00:00:00.150         0.0          NaN          NaN\n",
       "1       2020-08-05 00:00:00.348         0.0          NaN          NaN\n",
       "2       2020-08-05 00:00:00.562         0.0          NaN          NaN\n",
       "3       2020-08-05 00:00:00.759         0.0          NaN          NaN\n",
       "4       2020-08-05 00:00:00.974         0.0          NaN          NaN\n",
       "...                         ...         ...          ...          ...\n",
       "3436912 2020-08-19 23:59:59.011      -275.0          1.0          1.0\n",
       "3436913 2020-08-19 23:59:59.218      -275.0          1.0          1.0\n",
       "3436914 2020-08-19 23:59:59.424      -275.0          1.0          1.0\n",
       "3436915 2020-08-19 23:59:59.632      -275.0          1.0          1.0\n",
       "3436916 2020-08-19 23:59:59.845      -275.0          1.0          1.0\n",
       "\n",
       "[3436917 rows x 4 columns]"
      ]
     },
     "execution_count": 42,
     "metadata": {},
     "output_type": "execute_result"
    }
   ],
   "source": [
    "TREE_1 = zusammen(ID_45_2020,TREE_1)\n",
    "TREE_1.rename(columns = {'TagValue':'TagValue_45'}, inplace=True)\n",
    "TREE_1 "
   ]
  },
  {
   "cell_type": "code",
   "execution_count": 44,
   "id": "fcc8b2f4",
   "metadata": {},
   "outputs": [
    {
     "data": {
      "text/html": [
       "<div>\n",
       "<style scoped>\n",
       "    .dataframe tbody tr th:only-of-type {\n",
       "        vertical-align: middle;\n",
       "    }\n",
       "\n",
       "    .dataframe tbody tr th {\n",
       "        vertical-align: top;\n",
       "    }\n",
       "\n",
       "    .dataframe thead th {\n",
       "        text-align: right;\n",
       "    }\n",
       "</style>\n",
       "<table border=\"1\" class=\"dataframe\">\n",
       "  <thead>\n",
       "    <tr style=\"text-align: right;\">\n",
       "      <th></th>\n",
       "      <th>CreateDateTime</th>\n",
       "      <th>TagValue_0</th>\n",
       "      <th>TagValue_85</th>\n",
       "      <th>TagValue_45</th>\n",
       "      <th>TagValue_14</th>\n",
       "    </tr>\n",
       "  </thead>\n",
       "  <tbody>\n",
       "    <tr>\n",
       "      <th>0</th>\n",
       "      <td>2020-08-05 00:00:00.150</td>\n",
       "      <td>0.0</td>\n",
       "      <td>NaN</td>\n",
       "      <td>NaN</td>\n",
       "      <td>NaN</td>\n",
       "    </tr>\n",
       "    <tr>\n",
       "      <th>1</th>\n",
       "      <td>2020-08-05 00:00:00.348</td>\n",
       "      <td>0.0</td>\n",
       "      <td>NaN</td>\n",
       "      <td>NaN</td>\n",
       "      <td>NaN</td>\n",
       "    </tr>\n",
       "    <tr>\n",
       "      <th>2</th>\n",
       "      <td>2020-08-05 00:00:00.562</td>\n",
       "      <td>0.0</td>\n",
       "      <td>NaN</td>\n",
       "      <td>NaN</td>\n",
       "      <td>NaN</td>\n",
       "    </tr>\n",
       "    <tr>\n",
       "      <th>3</th>\n",
       "      <td>2020-08-05 00:00:00.759</td>\n",
       "      <td>0.0</td>\n",
       "      <td>NaN</td>\n",
       "      <td>NaN</td>\n",
       "      <td>NaN</td>\n",
       "    </tr>\n",
       "    <tr>\n",
       "      <th>4</th>\n",
       "      <td>2020-08-05 00:00:00.974</td>\n",
       "      <td>0.0</td>\n",
       "      <td>NaN</td>\n",
       "      <td>NaN</td>\n",
       "      <td>NaN</td>\n",
       "    </tr>\n",
       "    <tr>\n",
       "      <th>...</th>\n",
       "      <td>...</td>\n",
       "      <td>...</td>\n",
       "      <td>...</td>\n",
       "      <td>...</td>\n",
       "      <td>...</td>\n",
       "    </tr>\n",
       "    <tr>\n",
       "      <th>3438053</th>\n",
       "      <td>2020-08-19 23:59:59.011</td>\n",
       "      <td>-275.0</td>\n",
       "      <td>1.0</td>\n",
       "      <td>1.0</td>\n",
       "      <td>0.0</td>\n",
       "    </tr>\n",
       "    <tr>\n",
       "      <th>3438054</th>\n",
       "      <td>2020-08-19 23:59:59.218</td>\n",
       "      <td>-275.0</td>\n",
       "      <td>1.0</td>\n",
       "      <td>1.0</td>\n",
       "      <td>0.0</td>\n",
       "    </tr>\n",
       "    <tr>\n",
       "      <th>3438055</th>\n",
       "      <td>2020-08-19 23:59:59.424</td>\n",
       "      <td>-275.0</td>\n",
       "      <td>1.0</td>\n",
       "      <td>1.0</td>\n",
       "      <td>0.0</td>\n",
       "    </tr>\n",
       "    <tr>\n",
       "      <th>3438056</th>\n",
       "      <td>2020-08-19 23:59:59.632</td>\n",
       "      <td>-275.0</td>\n",
       "      <td>1.0</td>\n",
       "      <td>1.0</td>\n",
       "      <td>0.0</td>\n",
       "    </tr>\n",
       "    <tr>\n",
       "      <th>3438057</th>\n",
       "      <td>2020-08-19 23:59:59.845</td>\n",
       "      <td>-275.0</td>\n",
       "      <td>1.0</td>\n",
       "      <td>1.0</td>\n",
       "      <td>0.0</td>\n",
       "    </tr>\n",
       "  </tbody>\n",
       "</table>\n",
       "<p>3438058 rows × 5 columns</p>\n",
       "</div>"
      ],
      "text/plain": [
       "                 CreateDateTime  TagValue_0  TagValue_85  TagValue_45  \\\n",
       "0       2020-08-05 00:00:00.150         0.0          NaN          NaN   \n",
       "1       2020-08-05 00:00:00.348         0.0          NaN          NaN   \n",
       "2       2020-08-05 00:00:00.562         0.0          NaN          NaN   \n",
       "3       2020-08-05 00:00:00.759         0.0          NaN          NaN   \n",
       "4       2020-08-05 00:00:00.974         0.0          NaN          NaN   \n",
       "...                         ...         ...          ...          ...   \n",
       "3438053 2020-08-19 23:59:59.011      -275.0          1.0          1.0   \n",
       "3438054 2020-08-19 23:59:59.218      -275.0          1.0          1.0   \n",
       "3438055 2020-08-19 23:59:59.424      -275.0          1.0          1.0   \n",
       "3438056 2020-08-19 23:59:59.632      -275.0          1.0          1.0   \n",
       "3438057 2020-08-19 23:59:59.845      -275.0          1.0          1.0   \n",
       "\n",
       "         TagValue_14  \n",
       "0                NaN  \n",
       "1                NaN  \n",
       "2                NaN  \n",
       "3                NaN  \n",
       "4                NaN  \n",
       "...              ...  \n",
       "3438053          0.0  \n",
       "3438054          0.0  \n",
       "3438055          0.0  \n",
       "3438056          0.0  \n",
       "3438057          0.0  \n",
       "\n",
       "[3438058 rows x 5 columns]"
      ]
     },
     "execution_count": 44,
     "metadata": {},
     "output_type": "execute_result"
    }
   ],
   "source": [
    "TREE_1 = zusammen(ID_14_2020,TREE_1)\n",
    "TREE_1.rename(columns = {'TagValue':'TagValue_14'}, inplace=True)\n",
    "TREE_1 "
   ]
  },
  {
   "cell_type": "code",
   "execution_count": 46,
   "id": "a75ab8e7",
   "metadata": {},
   "outputs": [
    {
     "data": {
      "text/html": [
       "<div>\n",
       "<style scoped>\n",
       "    .dataframe tbody tr th:only-of-type {\n",
       "        vertical-align: middle;\n",
       "    }\n",
       "\n",
       "    .dataframe tbody tr th {\n",
       "        vertical-align: top;\n",
       "    }\n",
       "\n",
       "    .dataframe thead th {\n",
       "        text-align: right;\n",
       "    }\n",
       "</style>\n",
       "<table border=\"1\" class=\"dataframe\">\n",
       "  <thead>\n",
       "    <tr style=\"text-align: right;\">\n",
       "      <th></th>\n",
       "      <th>CreateDateTime</th>\n",
       "      <th>TagValue_0</th>\n",
       "      <th>TagValue_85</th>\n",
       "      <th>TagValue_45</th>\n",
       "      <th>TagValue_14</th>\n",
       "    </tr>\n",
       "  </thead>\n",
       "  <tbody>\n",
       "    <tr>\n",
       "      <th>2993</th>\n",
       "      <td>2020-08-05 00:12:29.444</td>\n",
       "      <td>-430.0</td>\n",
       "      <td>1.0</td>\n",
       "      <td>1.0</td>\n",
       "      <td>0.0</td>\n",
       "    </tr>\n",
       "    <tr>\n",
       "      <th>2994</th>\n",
       "      <td>2020-08-05 00:12:30.058</td>\n",
       "      <td>-430.0</td>\n",
       "      <td>1.0</td>\n",
       "      <td>1.0</td>\n",
       "      <td>0.0</td>\n",
       "    </tr>\n",
       "    <tr>\n",
       "      <th>2995</th>\n",
       "      <td>2020-08-05 00:12:30.469</td>\n",
       "      <td>-430.0</td>\n",
       "      <td>1.0</td>\n",
       "      <td>1.0</td>\n",
       "      <td>0.0</td>\n",
       "    </tr>\n",
       "    <tr>\n",
       "      <th>2996</th>\n",
       "      <td>2020-08-05 00:12:30.678</td>\n",
       "      <td>-430.0</td>\n",
       "      <td>1.0</td>\n",
       "      <td>1.0</td>\n",
       "      <td>0.0</td>\n",
       "    </tr>\n",
       "    <tr>\n",
       "      <th>2997</th>\n",
       "      <td>2020-08-05 00:12:30.867</td>\n",
       "      <td>-430.0</td>\n",
       "      <td>1.0</td>\n",
       "      <td>1.0</td>\n",
       "      <td>0.0</td>\n",
       "    </tr>\n",
       "    <tr>\n",
       "      <th>...</th>\n",
       "      <td>...</td>\n",
       "      <td>...</td>\n",
       "      <td>...</td>\n",
       "      <td>...</td>\n",
       "      <td>...</td>\n",
       "    </tr>\n",
       "    <tr>\n",
       "      <th>3438053</th>\n",
       "      <td>2020-08-19 23:59:59.011</td>\n",
       "      <td>-275.0</td>\n",
       "      <td>1.0</td>\n",
       "      <td>1.0</td>\n",
       "      <td>0.0</td>\n",
       "    </tr>\n",
       "    <tr>\n",
       "      <th>3438054</th>\n",
       "      <td>2020-08-19 23:59:59.218</td>\n",
       "      <td>-275.0</td>\n",
       "      <td>1.0</td>\n",
       "      <td>1.0</td>\n",
       "      <td>0.0</td>\n",
       "    </tr>\n",
       "    <tr>\n",
       "      <th>3438055</th>\n",
       "      <td>2020-08-19 23:59:59.424</td>\n",
       "      <td>-275.0</td>\n",
       "      <td>1.0</td>\n",
       "      <td>1.0</td>\n",
       "      <td>0.0</td>\n",
       "    </tr>\n",
       "    <tr>\n",
       "      <th>3438056</th>\n",
       "      <td>2020-08-19 23:59:59.632</td>\n",
       "      <td>-275.0</td>\n",
       "      <td>1.0</td>\n",
       "      <td>1.0</td>\n",
       "      <td>0.0</td>\n",
       "    </tr>\n",
       "    <tr>\n",
       "      <th>3438057</th>\n",
       "      <td>2020-08-19 23:59:59.845</td>\n",
       "      <td>-275.0</td>\n",
       "      <td>1.0</td>\n",
       "      <td>1.0</td>\n",
       "      <td>0.0</td>\n",
       "    </tr>\n",
       "  </tbody>\n",
       "</table>\n",
       "<p>3435065 rows × 5 columns</p>\n",
       "</div>"
      ],
      "text/plain": [
       "                 CreateDateTime  TagValue_0  TagValue_85  TagValue_45  \\\n",
       "2993    2020-08-05 00:12:29.444      -430.0          1.0          1.0   \n",
       "2994    2020-08-05 00:12:30.058      -430.0          1.0          1.0   \n",
       "2995    2020-08-05 00:12:30.469      -430.0          1.0          1.0   \n",
       "2996    2020-08-05 00:12:30.678      -430.0          1.0          1.0   \n",
       "2997    2020-08-05 00:12:30.867      -430.0          1.0          1.0   \n",
       "...                         ...         ...          ...          ...   \n",
       "3438053 2020-08-19 23:59:59.011      -275.0          1.0          1.0   \n",
       "3438054 2020-08-19 23:59:59.218      -275.0          1.0          1.0   \n",
       "3438055 2020-08-19 23:59:59.424      -275.0          1.0          1.0   \n",
       "3438056 2020-08-19 23:59:59.632      -275.0          1.0          1.0   \n",
       "3438057 2020-08-19 23:59:59.845      -275.0          1.0          1.0   \n",
       "\n",
       "         TagValue_14  \n",
       "2993             0.0  \n",
       "2994             0.0  \n",
       "2995             0.0  \n",
       "2996             0.0  \n",
       "2997             0.0  \n",
       "...              ...  \n",
       "3438053          0.0  \n",
       "3438054          0.0  \n",
       "3438055          0.0  \n",
       "3438056          0.0  \n",
       "3438057          0.0  \n",
       "\n",
       "[3435065 rows x 5 columns]"
      ]
     },
     "execution_count": 46,
     "metadata": {},
     "output_type": "execute_result"
    }
   ],
   "source": [
    "TREE_1 = TREE_1.dropna()\n",
    "TREE_1"
   ]
  },
  {
   "cell_type": "code",
   "execution_count": 55,
   "id": "69f272d4",
   "metadata": {},
   "outputs": [],
   "source": [
    "X = TREE_1.drop(['TagValue_0'], axis=1)\n",
    "X = X.drop(['CreateDateTime'], axis=1)\n",
    "\n",
    "y = TREE_1['TagValue_0']"
   ]
  },
  {
   "cell_type": "code",
   "execution_count": 56,
   "id": "d8875f95",
   "metadata": {},
   "outputs": [],
   "source": [
    "from sklearn.model_selection import train_test_split\n",
    "\n",
    "X_train, X_test, y_train, y_test = train_test_split(X, y, test_size = 0.33, random_state = 42)"
   ]
  },
  {
   "cell_type": "code",
   "execution_count": 57,
   "id": "1754b062",
   "metadata": {},
   "outputs": [
    {
     "data": {
      "text/plain": [
       "((2301493, 3), (1133572, 3))"
      ]
     },
     "execution_count": 57,
     "metadata": {},
     "output_type": "execute_result"
    }
   ],
   "source": [
    "X_train.shape, X_test.shape"
   ]
  },
  {
   "cell_type": "code",
   "execution_count": 58,
   "id": "0b21b008",
   "metadata": {},
   "outputs": [
    {
     "data": {
      "text/plain": [
       "TagValue_85    float64\n",
       "TagValue_45    float64\n",
       "TagValue_14    float64\n",
       "dtype: object"
      ]
     },
     "execution_count": 58,
     "metadata": {},
     "output_type": "execute_result"
    }
   ],
   "source": [
    "X_train.dtypes"
   ]
  },
  {
   "cell_type": "code",
   "execution_count": 59,
   "id": "0db015ba",
   "metadata": {},
   "outputs": [],
   "source": [
    "from sklearn.tree import DecisionTreeClassifier"
   ]
  },
  {
   "cell_type": "code",
   "execution_count": 60,
   "id": "7b85aeb5",
   "metadata": {},
   "outputs": [
    {
     "data": {
      "text/plain": [
       "DecisionTreeClassifier(max_depth=3, random_state=0)"
      ]
     },
     "execution_count": 60,
     "metadata": {},
     "output_type": "execute_result"
    }
   ],
   "source": [
    "# instantiate the DecisionTreeClassifier model with criterion gini index\n",
    "clf_gini = DecisionTreeClassifier(criterion='gini', max_depth=3, random_state=0)\n",
    "\n",
    "\n",
    "# fit the model\n",
    "clf_gini.fit(X_train, y_train)"
   ]
  },
  {
   "cell_type": "code",
   "execution_count": 61,
   "id": "c1e4e8c0",
   "metadata": {},
   "outputs": [],
   "source": [
    "y_pred_gini = clf_gini.predict(X_test)"
   ]
  },
  {
   "cell_type": "code",
   "execution_count": 62,
   "id": "f9c1b2a1",
   "metadata": {},
   "outputs": [
    {
     "name": "stdout",
     "output_type": "stream",
     "text": [
      "Model accuracy score with criterion gini index: 0.6909\n"
     ]
    }
   ],
   "source": [
    "from sklearn.metrics import accuracy_score\n",
    "\n",
    "print('Model accuracy score with criterion gini index: {0:0.4f}'. format(accuracy_score(y_test, y_pred_gini)))"
   ]
  },
  {
   "cell_type": "code",
   "execution_count": 63,
   "id": "ef8c1e35",
   "metadata": {},
   "outputs": [
    {
     "data": {
      "text/plain": [
       "array([   0., -430.,    0., ...,    0.,    0., -430.])"
      ]
     },
     "execution_count": 63,
     "metadata": {},
     "output_type": "execute_result"
    }
   ],
   "source": [
    "y_pred_train_gini = clf_gini.predict(X_train)\n",
    "\n",
    "y_pred_train_gini"
   ]
  },
  {
   "cell_type": "code",
   "execution_count": 64,
   "id": "abad4125",
   "metadata": {},
   "outputs": [
    {
     "name": "stdout",
     "output_type": "stream",
     "text": [
      "Training-set accuracy score: 0.6913\n"
     ]
    }
   ],
   "source": [
    "print('Training-set accuracy score: {0:0.4f}'. format(accuracy_score(y_train, y_pred_train_gini)))"
   ]
  },
  {
   "cell_type": "code",
   "execution_count": 65,
   "id": "04bf024c",
   "metadata": {},
   "outputs": [
    {
     "name": "stdout",
     "output_type": "stream",
     "text": [
      "Training set score: 0.6913\n",
      "Test set score: 0.6909\n"
     ]
    }
   ],
   "source": [
    "# print the scores on training and test set\n",
    "\n",
    "print('Training set score: {:.4f}'.format(clf_gini.score(X_train, y_train)))\n",
    "\n",
    "print('Test set score: {:.4f}'.format(clf_gini.score(X_test, y_test)))"
   ]
  },
  {
   "cell_type": "code",
   "execution_count": 68,
   "id": "99382a87",
   "metadata": {},
   "outputs": [
    {
     "data": {
      "text/plain": [
       "[Text(0.5, 0.875, 'X[0] <= 0.5\\ngini = 0.612\\nsamples = 2301493\\nvalue = [1174360, 417506, 709627]'),\n",
       " Text(0.25, 0.625, 'X[2] <= 0.5\\ngini = 0.562\\nsamples = 1187770\\nvalue = [358360, 144365, 685045]'),\n",
       " Text(0.125, 0.375, 'X[1] <= 0.5\\ngini = 0.561\\nsamples = 1182501\\nvalue = [355880, 143742, 682879]'),\n",
       " Text(0.0625, 0.125, 'gini = 0.561\\nsamples = 1182378\\nvalue = [355880, 143621, 682877]'),\n",
       " Text(0.1875, 0.125, 'gini = 0.032\\nsamples = 123\\nvalue = [0, 121, 2]'),\n",
       " Text(0.375, 0.375, 'X[1] <= 0.5\\ngini = 0.595\\nsamples = 5269\\nvalue = [2480, 623, 2166]'),\n",
       " Text(0.3125, 0.125, 'gini = 0.595\\nsamples = 5267\\nvalue = [2480, 621, 2166]'),\n",
       " Text(0.4375, 0.125, 'gini = 0.0\\nsamples = 2\\nvalue = [0, 2, 0]'),\n",
       " Text(0.75, 0.625, 'X[1] <= 0.5\\ngini = 0.403\\nsamples = 1113723\\nvalue = [816000, 273141, 24582]'),\n",
       " Text(0.625, 0.375, 'X[2] <= 0.5\\ngini = 0.294\\nsamples = 930529\\nvalue = [769202, 136774, 24553]'),\n",
       " Text(0.5625, 0.125, 'gini = 0.299\\nsamples = 909949\\nvalue = [748871, 136525, 24553]'),\n",
       " Text(0.6875, 0.125, 'gini = 0.024\\nsamples = 20580\\nvalue = [20331, 249, 0]'),\n",
       " Text(0.875, 0.375, 'X[2] <= 0.5\\ngini = 0.381\\nsamples = 183194\\nvalue = [46798, 136367, 29]'),\n",
       " Text(0.8125, 0.125, 'gini = 0.376\\nsamples = 178980\\nvalue = [44887, 134064, 29]'),\n",
       " Text(0.9375, 0.125, 'gini = 0.496\\nsamples = 4214\\nvalue = [1911, 2303, 0]')]"
      ]
     },
     "execution_count": 68,
     "metadata": {},
     "output_type": "execute_result"
    },
    {
     "data": {
      "image/png": "[encoded data removed]",
      "text/plain": [
       "<Figure size 1440x864 with 1 Axes>"
      ]
     },
     "metadata": {
      "needs_background": "light"
     },
     "output_type": "display_data"
    }
   ],
   "source": [
    "plt.figure(figsize=(20,12))\n",
    "\n",
    "from sklearn import tree\n",
    "\n",
    "tree.plot_tree(clf_gini.fit(X_train, y_train)) "
   ]
  },
  {
   "cell_type": "code",
   "execution_count": 72,
   "id": "3fa9cc0d",
   "metadata": {},
   "outputs": [
    {
     "name": "stderr",
     "output_type": "stream",
     "text": [
      "'install' 不是内部或外部命令，也不是可运行的程序\n",
      "或批处理文件。\n"
     ]
    },
    {
     "ename": "ModuleNotFoundError",
     "evalue": "No module named 'graphviz'",
     "output_type": "error",
     "traceback": [
      "\u001b[1;31m---------------------------------------------------------------------------\u001b[0m",
      "\u001b[1;31mModuleNotFoundError\u001b[0m                       Traceback (most recent call last)",
      "Input \u001b[1;32mIn [72]\u001b[0m, in \u001b[0;36m<cell line: 2>\u001b[1;34m()\u001b[0m\n\u001b[0;32m      1\u001b[0m get_ipython()\u001b[38;5;241m.\u001b[39msystem(\u001b[38;5;124m'\u001b[39m\u001b[38;5;124minstall graphviz\u001b[39m\u001b[38;5;124m'\u001b[39m)\n\u001b[1;32m----> 2\u001b[0m \u001b[38;5;28;01mimport\u001b[39;00m \u001b[38;5;21;01mgraphviz\u001b[39;00m \n\u001b[0;32m      3\u001b[0m dot_data \u001b[38;5;241m=\u001b[39m tree\u001b[38;5;241m.\u001b[39mexport_graphviz(clf_gini, out_file\u001b[38;5;241m=\u001b[39m\u001b[38;5;28;01mNone\u001b[39;00m, \n\u001b[0;32m      4\u001b[0m                               feature_names\u001b[38;5;241m=\u001b[39mX_train\u001b[38;5;241m.\u001b[39mcolumns,  \n\u001b[0;32m      5\u001b[0m                               class_names\u001b[38;5;241m=\u001b[39my_train,  \n\u001b[0;32m      6\u001b[0m                               filled\u001b[38;5;241m=\u001b[39m\u001b[38;5;28;01mTrue\u001b[39;00m, rounded\u001b[38;5;241m=\u001b[39m\u001b[38;5;28;01mTrue\u001b[39;00m,  \n\u001b[0;32m      7\u001b[0m                               special_characters\u001b[38;5;241m=\u001b[39m\u001b[38;5;28;01mTrue\u001b[39;00m)\n\u001b[0;32m      9\u001b[0m graph \u001b[38;5;241m=\u001b[39m graphviz\u001b[38;5;241m.\u001b[39mSource(dot_data) \n",
      "\u001b[1;31mModuleNotFoundError\u001b[0m: No module named 'graphviz'"
     ]
    }
   ],
   "source": [
    "!install graphviz\n",
    "import graphviz \n",
    "dot_data = tree.export_graphviz(clf_gini, out_file=None, \n",
    "                              feature_names=X_train.columns,  \n",
    "                              class_names=y_train,  \n",
    "                              filled=True, rounded=True,  \n",
    "                              special_characters=True)\n",
    "\n",
    "graph = graphviz.Source(dot_data) \n",
    "\n",
    "graph "
   ]
  },
  {
   "cell_type": "code",
   "execution_count": null,
   "id": "fa798120",
   "metadata": {},
   "outputs": [],
   "source": []
  },
  {
   "cell_type": "code",
   "execution_count": null,
   "id": "7d25a520",
   "metadata": {},
   "outputs": [],
   "source": []
  },
  {
   "cell_type": "code",
   "execution_count": null,
   "id": "0ec5ea08",
   "metadata": {},
   "outputs": [],
   "source": []
  },
  {
   "cell_type": "code",
   "execution_count": null,
   "id": "a9e16262",
   "metadata": {},
   "outputs": [],
   "source": []
  }
 ],
 "metadata": {
  "kernelspec": {
   "display_name": "Python 3 (ipykernel)",
   "language": "python",
   "name": "python3"
  },
  "language_info": {
   "codemirror_mode": {
    "name": "ipython",
    "version": 3
   },
   "file_extension": ".py",
   "mimetype": "text/x-python",
   "name": "python",
   "nbconvert_exporter": "python",
   "pygments_lexer": "ipython3",
   "version": "3.9.12"
  }
 },
 "nbformat": 4,
 "nbformat_minor": 5
}
