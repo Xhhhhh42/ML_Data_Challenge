{
 "cells": [
  {
   "cell_type": "code",
   "execution_count": 1,
   "metadata": {},
   "outputs": [],
   "source": [
    "import pandas as pd\n",
    "import seaborn as sns\n",
    "import numpy as np\n",
    "import matplotlib.pyplot as plt\n",
    "from matplotlib.pyplot import MultipleLocator\n",
    "import time\n",
    "import datetime\n",
    "from datetime import timedelta\n",
    "import scipy.stats as stats"
   ]
  },
  {
   "cell_type": "code",
   "execution_count": 10,
   "metadata": {},
   "outputs": [
    {
     "data": {
      "text/html": [
       "<div>\n",
       "<style scoped>\n",
       "    .dataframe tbody tr th:only-of-type {\n",
       "        vertical-align: middle;\n",
       "    }\n",
       "\n",
       "    .dataframe tbody tr th {\n",
       "        vertical-align: top;\n",
       "    }\n",
       "\n",
       "    .dataframe thead th {\n",
       "        text-align: right;\n",
       "    }\n",
       "</style>\n",
       "<table border=\"1\" class=\"dataframe\">\n",
       "  <thead>\n",
       "    <tr style=\"text-align: right;\">\n",
       "      <th></th>\n",
       "      <th>CreateDateTime</th>\n",
       "      <th>TagValue</th>\n",
       "      <th>TagId</th>\n",
       "    </tr>\n",
       "  </thead>\n",
       "  <tbody>\n",
       "    <tr>\n",
       "      <th>0</th>\n",
       "      <td>2018-08-23 10:42:57.278</td>\n",
       "      <td>-1.475694</td>\n",
       "      <td>57</td>\n",
       "    </tr>\n",
       "    <tr>\n",
       "      <th>1</th>\n",
       "      <td>2018-08-23 10:43:03.315</td>\n",
       "      <td>-1.446759</td>\n",
       "      <td>57</td>\n",
       "    </tr>\n",
       "    <tr>\n",
       "      <th>2</th>\n",
       "      <td>2018-08-23 10:43:04.314</td>\n",
       "      <td>-1.475694</td>\n",
       "      <td>57</td>\n",
       "    </tr>\n",
       "    <tr>\n",
       "      <th>3</th>\n",
       "      <td>2018-08-23 10:43:06.317</td>\n",
       "      <td>-1.533565</td>\n",
       "      <td>57</td>\n",
       "    </tr>\n",
       "    <tr>\n",
       "      <th>4</th>\n",
       "      <td>2018-08-23 10:43:07.317</td>\n",
       "      <td>-1.446759</td>\n",
       "      <td>57</td>\n",
       "    </tr>\n",
       "    <tr>\n",
       "      <th>...</th>\n",
       "      <td>...</td>\n",
       "      <td>...</td>\n",
       "      <td>...</td>\n",
       "    </tr>\n",
       "    <tr>\n",
       "      <th>4590040</th>\n",
       "      <td>2018-12-31 23:59:50.538</td>\n",
       "      <td>-1.996528</td>\n",
       "      <td>57</td>\n",
       "    </tr>\n",
       "    <tr>\n",
       "      <th>4590041</th>\n",
       "      <td>2018-12-31 23:59:52.550</td>\n",
       "      <td>-2.025463</td>\n",
       "      <td>57</td>\n",
       "    </tr>\n",
       "    <tr>\n",
       "      <th>4590042</th>\n",
       "      <td>2018-12-31 23:59:53.554</td>\n",
       "      <td>-1.996528</td>\n",
       "      <td>57</td>\n",
       "    </tr>\n",
       "    <tr>\n",
       "      <th>4590043</th>\n",
       "      <td>2018-12-31 23:59:58.585</td>\n",
       "      <td>-2.025463</td>\n",
       "      <td>57</td>\n",
       "    </tr>\n",
       "    <tr>\n",
       "      <th>4590044</th>\n",
       "      <td>2018-12-31 23:59:59.595</td>\n",
       "      <td>-1.996528</td>\n",
       "      <td>57</td>\n",
       "    </tr>\n",
       "  </tbody>\n",
       "</table>\n",
       "<p>4590045 rows × 3 columns</p>\n",
       "</div>"
      ],
      "text/plain": [
       "                 CreateDateTime  TagValue  TagId\n",
       "0       2018-08-23 10:42:57.278 -1.475694     57\n",
       "1       2018-08-23 10:43:03.315 -1.446759     57\n",
       "2       2018-08-23 10:43:04.314 -1.475694     57\n",
       "3       2018-08-23 10:43:06.317 -1.533565     57\n",
       "4       2018-08-23 10:43:07.317 -1.446759     57\n",
       "...                         ...       ...    ...\n",
       "4590040 2018-12-31 23:59:50.538 -1.996528     57\n",
       "4590041 2018-12-31 23:59:52.550 -2.025463     57\n",
       "4590042 2018-12-31 23:59:53.554 -1.996528     57\n",
       "4590043 2018-12-31 23:59:58.585 -2.025463     57\n",
       "4590044 2018-12-31 23:59:59.595 -1.996528     57\n",
       "\n",
       "[4590045 rows x 3 columns]"
      ]
     },
     "execution_count": 10,
     "metadata": {},
     "output_type": "execute_result"
    }
   ],
   "source": [
    "ID_159_2018=pd.read_csv('D:\\留德十年\\TUD\\ADP\\Data\\TagID_159_2019/TagID_159_2018.csv',dtype= {'CreateDateTime': str, 'TagValue': np.float64, 'TagId': np.int32},parse_dates=['CreateDateTime'],index_col='Unnamed: 0')\n",
    "ID_57_2018=pd.read_csv('D:\\留德十年\\TUD\\ADP\\Data\\TagID_159_2019/TagID_057_2018.csv',dtype= {'CreateDateTime': str, 'TagValue': np.float64, 'TagId': np.int32},parse_dates=['CreateDateTime'],index_col='Unnamed: 0')\n",
    "ID_57_2018\n"
   ]
  },
  {
   "cell_type": "code",
   "execution_count": 3,
   "metadata": {},
   "outputs": [
    {
     "data": {
      "text/html": [
       "<div>\n",
       "<style scoped>\n",
       "    .dataframe tbody tr th:only-of-type {\n",
       "        vertical-align: middle;\n",
       "    }\n",
       "\n",
       "    .dataframe tbody tr th {\n",
       "        vertical-align: top;\n",
       "    }\n",
       "\n",
       "    .dataframe thead th {\n",
       "        text-align: right;\n",
       "    }\n",
       "</style>\n",
       "<table border=\"1\" class=\"dataframe\">\n",
       "  <thead>\n",
       "    <tr style=\"text-align: right;\">\n",
       "      <th></th>\n",
       "      <th>CreateDateTime</th>\n",
       "      <th>TagValue</th>\n",
       "      <th>TagId</th>\n",
       "    </tr>\n",
       "  </thead>\n",
       "  <tbody>\n",
       "    <tr>\n",
       "      <th>0</th>\n",
       "      <td>2018-10-09 18:07:43.914</td>\n",
       "      <td>0.0</td>\n",
       "      <td>159</td>\n",
       "    </tr>\n",
       "    <tr>\n",
       "      <th>1</th>\n",
       "      <td>2018-10-10 10:24:50.690</td>\n",
       "      <td>0.0</td>\n",
       "      <td>159</td>\n",
       "    </tr>\n",
       "    <tr>\n",
       "      <th>2</th>\n",
       "      <td>2018-10-10 10:25:19.174</td>\n",
       "      <td>0.0</td>\n",
       "      <td>159</td>\n",
       "    </tr>\n",
       "    <tr>\n",
       "      <th>3</th>\n",
       "      <td>2018-10-10 10:38:57.331</td>\n",
       "      <td>0.0</td>\n",
       "      <td>159</td>\n",
       "    </tr>\n",
       "    <tr>\n",
       "      <th>4</th>\n",
       "      <td>2018-10-10 10:46:23.305</td>\n",
       "      <td>0.0</td>\n",
       "      <td>159</td>\n",
       "    </tr>\n",
       "    <tr>\n",
       "      <th>...</th>\n",
       "      <td>...</td>\n",
       "      <td>...</td>\n",
       "      <td>...</td>\n",
       "    </tr>\n",
       "    <tr>\n",
       "      <th>2985</th>\n",
       "      <td>2018-10-28 22:24:48.383</td>\n",
       "      <td>1.0</td>\n",
       "      <td>159</td>\n",
       "    </tr>\n",
       "    <tr>\n",
       "      <th>2986</th>\n",
       "      <td>2018-10-28 22:24:49.391</td>\n",
       "      <td>0.0</td>\n",
       "      <td>159</td>\n",
       "    </tr>\n",
       "    <tr>\n",
       "      <th>2987</th>\n",
       "      <td>2018-10-28 23:09:03.807</td>\n",
       "      <td>1.0</td>\n",
       "      <td>159</td>\n",
       "    </tr>\n",
       "    <tr>\n",
       "      <th>2988</th>\n",
       "      <td>2018-10-28 23:09:04.814</td>\n",
       "      <td>0.0</td>\n",
       "      <td>159</td>\n",
       "    </tr>\n",
       "    <tr>\n",
       "      <th>2989</th>\n",
       "      <td>2018-11-22 16:52:24.461</td>\n",
       "      <td>0.0</td>\n",
       "      <td>159</td>\n",
       "    </tr>\n",
       "  </tbody>\n",
       "</table>\n",
       "<p>2990 rows × 3 columns</p>\n",
       "</div>"
      ],
      "text/plain": [
       "              CreateDateTime  TagValue  TagId\n",
       "0    2018-10-09 18:07:43.914       0.0    159\n",
       "1    2018-10-10 10:24:50.690       0.0    159\n",
       "2    2018-10-10 10:25:19.174       0.0    159\n",
       "3    2018-10-10 10:38:57.331       0.0    159\n",
       "4    2018-10-10 10:46:23.305       0.0    159\n",
       "...                      ...       ...    ...\n",
       "2985 2018-10-28 22:24:48.383       1.0    159\n",
       "2986 2018-10-28 22:24:49.391       0.0    159\n",
       "2987 2018-10-28 23:09:03.807       1.0    159\n",
       "2988 2018-10-28 23:09:04.814       0.0    159\n",
       "2989 2018-11-22 16:52:24.461       0.0    159\n",
       "\n",
       "[2990 rows x 3 columns]"
      ]
     },
     "execution_count": 3,
     "metadata": {},
     "output_type": "execute_result"
    }
   ],
   "source": [
    "ID_159_2018"
   ]
  },
  {
   "cell_type": "code",
   "execution_count": 11,
   "metadata": {},
   "outputs": [
    {
     "data": {
      "text/html": [
       "<div>\n",
       "<style scoped>\n",
       "    .dataframe tbody tr th:only-of-type {\n",
       "        vertical-align: middle;\n",
       "    }\n",
       "\n",
       "    .dataframe tbody tr th {\n",
       "        vertical-align: top;\n",
       "    }\n",
       "\n",
       "    .dataframe thead th {\n",
       "        text-align: right;\n",
       "    }\n",
       "</style>\n",
       "<table border=\"1\" class=\"dataframe\">\n",
       "  <thead>\n",
       "    <tr style=\"text-align: right;\">\n",
       "      <th></th>\n",
       "      <th>CreateDateTime</th>\n",
       "      <th>TagValue</th>\n",
       "      <th>TagId</th>\n",
       "    </tr>\n",
       "  </thead>\n",
       "  <tbody>\n",
       "    <tr>\n",
       "      <th>0</th>\n",
       "      <td>2018-08-23 10:42:57.278</td>\n",
       "      <td>NaN</td>\n",
       "      <td>57</td>\n",
       "    </tr>\n",
       "    <tr>\n",
       "      <th>1</th>\n",
       "      <td>2018-08-23 10:43:03.315</td>\n",
       "      <td>0.028935</td>\n",
       "      <td>57</td>\n",
       "    </tr>\n",
       "    <tr>\n",
       "      <th>2</th>\n",
       "      <td>2018-08-23 10:43:04.314</td>\n",
       "      <td>-0.028935</td>\n",
       "      <td>57</td>\n",
       "    </tr>\n",
       "    <tr>\n",
       "      <th>3</th>\n",
       "      <td>2018-08-23 10:43:06.317</td>\n",
       "      <td>-0.057871</td>\n",
       "      <td>57</td>\n",
       "    </tr>\n",
       "    <tr>\n",
       "      <th>4</th>\n",
       "      <td>2018-08-23 10:43:07.317</td>\n",
       "      <td>0.086806</td>\n",
       "      <td>57</td>\n",
       "    </tr>\n",
       "    <tr>\n",
       "      <th>...</th>\n",
       "      <td>...</td>\n",
       "      <td>...</td>\n",
       "      <td>...</td>\n",
       "    </tr>\n",
       "    <tr>\n",
       "      <th>4590040</th>\n",
       "      <td>2018-12-31 23:59:50.538</td>\n",
       "      <td>0.028935</td>\n",
       "      <td>57</td>\n",
       "    </tr>\n",
       "    <tr>\n",
       "      <th>4590041</th>\n",
       "      <td>2018-12-31 23:59:52.550</td>\n",
       "      <td>-0.028935</td>\n",
       "      <td>57</td>\n",
       "    </tr>\n",
       "    <tr>\n",
       "      <th>4590042</th>\n",
       "      <td>2018-12-31 23:59:53.554</td>\n",
       "      <td>0.028935</td>\n",
       "      <td>57</td>\n",
       "    </tr>\n",
       "    <tr>\n",
       "      <th>4590043</th>\n",
       "      <td>2018-12-31 23:59:58.585</td>\n",
       "      <td>-0.028935</td>\n",
       "      <td>57</td>\n",
       "    </tr>\n",
       "    <tr>\n",
       "      <th>4590044</th>\n",
       "      <td>2018-12-31 23:59:59.595</td>\n",
       "      <td>0.028935</td>\n",
       "      <td>57</td>\n",
       "    </tr>\n",
       "  </tbody>\n",
       "</table>\n",
       "<p>4590045 rows × 3 columns</p>\n",
       "</div>"
      ],
      "text/plain": [
       "                 CreateDateTime  TagValue  TagId\n",
       "0       2018-08-23 10:42:57.278       NaN     57\n",
       "1       2018-08-23 10:43:03.315  0.028935     57\n",
       "2       2018-08-23 10:43:04.314 -0.028935     57\n",
       "3       2018-08-23 10:43:06.317 -0.057871     57\n",
       "4       2018-08-23 10:43:07.317  0.086806     57\n",
       "...                         ...       ...    ...\n",
       "4590040 2018-12-31 23:59:50.538  0.028935     57\n",
       "4590041 2018-12-31 23:59:52.550 -0.028935     57\n",
       "4590042 2018-12-31 23:59:53.554  0.028935     57\n",
       "4590043 2018-12-31 23:59:58.585 -0.028935     57\n",
       "4590044 2018-12-31 23:59:59.595  0.028935     57\n",
       "\n",
       "[4590045 rows x 3 columns]"
      ]
     },
     "execution_count": 11,
     "metadata": {},
     "output_type": "execute_result"
    }
   ],
   "source": [
    "ID_57_2018['TagValue']=ID_57_2018.TagValue.diff(1)\n",
    "ID_57_2018"
   ]
  },
  {
   "cell_type": "code",
   "execution_count": 5,
   "metadata": {},
   "outputs": [
    {
     "data": {
      "text/plain": [
       "<AxesSubplot:xlabel='CreateDateTime', ylabel='TagValue'>"
      ]
     },
     "execution_count": 5,
     "metadata": {},
     "output_type": "execute_result"
    },
    {
     "data": {
      "image/png": "[encoded data removed]",
      "text/plain": [
       "<Figure size 432x288 with 1 Axes>"
      ]
     },
     "metadata": {
      "needs_background": "light"
     },
     "output_type": "display_data"
    }
   ],
   "source": [
    "ID_159_2018.plot('CreateDateTime','TagValue',kind='scatter')"
   ]
  },
  {
   "cell_type": "code",
   "execution_count": 12,
   "metadata": {},
   "outputs": [
    {
     "data": {
      "text/plain": [
       "<AxesSubplot:xlabel='CreateDateTime', ylabel='TagValue'>"
      ]
     },
     "execution_count": 12,
     "metadata": {},
     "output_type": "execute_result"
    },
    {
     "data": {
      "image/png": "[encoded data removed]",
      "text/plain": [
       "<Figure size 432x288 with 1 Axes>"
      ]
     },
     "metadata": {
      "needs_background": "light"
     },
     "output_type": "display_data"
    }
   ],
   "source": [
    "ID_57_2018.plot('CreateDateTime','TagValue',kind='scatter')"
   ]
  },
  {
   "cell_type": "code",
   "execution_count": 13,
   "metadata": {},
   "outputs": [
    {
     "data": {
      "text/plain": [
       "<AxesSubplot:xlabel='CreateDateTime'>"
      ]
     },
     "execution_count": 13,
     "metadata": {},
     "output_type": "execute_result"
    },
    {
     "data": {
      "image/png": "[encoded data removed]",
      "text/plain": [
       "<Figure size 432x288 with 1 Axes>"
      ]
     },
     "metadata": {
      "needs_background": "light"
     },
     "output_type": "display_data"
    }
   ],
   "source": [
    "ID_57_2018.plot('CreateDateTime','TagValue')"
   ]
  },
  {
   "cell_type": "code",
   "execution_count": 14,
   "metadata": {},
   "outputs": [
    {
     "data": {
      "text/plain": [
       "CreateDateTime    datetime64[ns]\n",
       "TagValue                 float64\n",
       "TagId                      int32\n",
       "dtype: object"
      ]
     },
     "execution_count": 14,
     "metadata": {},
     "output_type": "execute_result"
    }
   ],
   "source": [
    "ID_159_2018.dtypes"
   ]
  },
  {
   "cell_type": "code",
   "execution_count": 15,
   "metadata": {},
   "outputs": [
    {
     "data": {
      "image/png": "[encoded data removed]",
      "text/plain": [
       "<Figure size 1440x576 with 2 Axes>"
      ]
     },
     "metadata": {
      "needs_background": "light"
     },
     "output_type": "display_data"
    }
   ],
   "source": [
    "Daten_1=ID_57_2018\n",
    "Daten_2=ID_159_2018\n",
    "\n",
    "Daten_1=Daten_1[(Daten_1['CreateDateTime']>'2018-10-20 06:06:00')&(Daten_1['CreateDateTime']<'2018-10-20 08:06:00')]\n",
    "Daten_2=Daten_2[(Daten_2['CreateDateTime']>'2018-10-20 06:06:00')&(Daten_2['CreateDateTime']<'2018-10-20 08:06:00')]\n",
    "\n",
    "fig, ax = plt.subplots(figsize=(20, 8))\n",
    "col1 = 'steelblue'\n",
    "col2 = 'red'\n",
    "ax.set_xlabel('Datum und Uhrzeit', fontsize=14)\n",
    "ax.set_ylabel('ID_57_2018_DifDruAbs_8_3_mbar', color=col1, fontsize=16)\n",
    "ax.plot(Daten_1.CreateDateTime, Daten_1.TagValue, color=col1)\n",
    "ax.tick_params(axis='y', labelcolor=col1)\n",
    "#plt.ylim((0, 100))\n",
    "\n",
    "#add y-axis label\n",
    "\n",
    "\n",
    "#define second y-axis that shares x-axis with current plot\n",
    "\n",
    "\n",
    "ax2 = ax.twinx()\n",
    "#ax2 = ax.twiny()\n",
    "#add second line to plot\n",
    "ax2.set_ylabel('ID_59_2018_Filterabreinigung_DifZeit_S', color=col2, fontsize=16)\n",
    "ax2.scatter(Daten_2.CreateDateTime, Daten_2.TagValue, color=col2)\n",
    "ax2.tick_params(axis='y', labelcolor=col2)\n",
    "#plt.ylim((-1,10))"
   ]
  },
  {
   "cell_type": "code",
   "execution_count": null,
   "metadata": {},
   "outputs": [],
   "source": []
  },
  {
   "cell_type": "code",
   "execution_count": null,
   "metadata": {},
   "outputs": [],
   "source": [
    "Daten_2"
   ]
  },
  {
   "cell_type": "code",
   "execution_count": null,
   "metadata": {},
   "outputs": [],
   "source": [
    "#pd.set_option('display.max_rows', None)\n",
    "Daten_3=Daten_1[(Daten_1['CreateDateTime']>'2018-03-02 06:15:46')&(Daten_1['CreateDateTime']<'2018-03-02 06:15:48')]\n",
    "Daten_3"
   ]
  },
  {
   "cell_type": "code",
   "execution_count": null,
   "metadata": {},
   "outputs": [],
   "source": [
    "Daten_3=Daten_1[(Daten_1['CreateDateTime']>'2018-03-02 06:16:31')&(Daten_1['CreateDateTime']<'2018-03-02 06:16:33')]\n",
    "Daten_3"
   ]
  },
  {
   "cell_type": "code",
   "execution_count": null,
   "metadata": {},
   "outputs": [],
   "source": [
    "Daten_1=ID_57_2018\n",
    "Daten_2=ID_159_2018\n",
    "Daten_3=ID_051_2018\n",
    "\n",
    "Daten_1=Daten_1[(Daten_1['CreateDateTime']>'2018-10-20 06:06:00')&(Daten_1['CreateDateTime']<'2018-10-20 08:06:00')]\n",
    "Daten_2=Daten_2[(Daten_2['CreateDateTime']>'2018-10-20 06:06:00')&(Daten_2['CreateDateTime']<'2018-10-20 08:06:00')]\n",
    "Daten_3=Daten_3[(Daten_3['CreateDateTime']>'2018-10-20 06:06:00')&(Daten_3['CreateDateTime']<'2018-10-20 08:06:00')]\n",
    "\n",
    "fig, ax = plt.subplots(figsize=(20, 8))\n",
    "col1 = 'steelblue'\n",
    "col2 = 'red'\n",
    "col3 = 'black'\n",
    "ax.set_xlabel('Datum und Uhrzeit', fontsize=14)\n",
    "ax.set_ylabel('ID_57_2018_DifDruAbs_8_3_mbar', color=col1, fontsize=16)\n",
    "ax.plot(Daten_1.CreateDateTime, Daten_1.TagValue, color=col1)\n",
    "ax.tick_params(axis='y', labelcolor=col1)\n",
    "#plt.ylim((0, 100))\n",
    "\n",
    "#add y-axis label\n",
    "\n",
    "\n",
    "#define second y-axis that shares x-axis with current plot\n",
    "\n",
    "\n",
    "ax2 = ax.twinx()\n",
    "#ax2 = ax.twiny()\n",
    "#add second line to plot\n",
    "ax2.set_ylabel('ID_59_2018_Filterabreinigung_DifZeit_S', color=col2, fontsize=16)\n",
    "ax2.scatter(Daten_2.CreateDateTime, Daten_2.TagValue, color=col2)\n",
    "ax2.tick_params(axis='y', labelcolor=col2)\n",
    "#plt.ylim((-1,10))\n",
    "\n",
    "ax3 = ax.twinx()\n",
    "ax3.spines[\"right\"].set_position((\"axes\", 1.1)) \n",
    "ax3.set_ylabel('ID_051_2018_DruAbs_mbar', color=col3, fontsize=16)\n",
    "ax3.scatter(Daten_3.CreateDateTime, Daten_3.TagValue, color=col3)\n",
    "ax3.tick_params(axis='y', labelcolor=col3)"
   ]
  }
 ],
 "metadata": {
  "kernelspec": {
   "display_name": "Python 3 (ipykernel)",
   "language": "python",
   "name": "python3"
  },
  "language_info": {
   "codemirror_mode": {
    "name": "ipython",
    "version": 3
   },
   "file_extension": ".py",
   "mimetype": "text/x-python",
   "name": "python",
   "nbconvert_exporter": "python",
   "pygments_lexer": "ipython3",
   "version": "3.9.12"
  }
 },
 "nbformat": 4,
 "nbformat_minor": 4
}
